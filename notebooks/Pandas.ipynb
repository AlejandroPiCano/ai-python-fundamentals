{
 "cells": [
  {
   "cell_type": "code",
   "execution_count": 1,
   "metadata": {},
   "outputs": [],
   "source": [
    "import pandas as pd"
   ]
  },
  {
   "cell_type": "code",
   "execution_count": null,
   "metadata": {},
   "outputs": [
    {
     "name": "stdout",
     "output_type": "stream",
     "text": [
      "             ID       Edad      Altura        Peso\n",
      "count  5.000000   5.000000    5.000000    5.000000\n",
      "mean   3.000000  30.000000  180.000000   80.000000\n",
      "std    1.581139   7.905694   15.811388   15.811388\n",
      "min    1.000000  20.000000  160.000000   60.000000\n",
      "25%    2.000000  25.000000  170.000000   70.000000\n",
      "50%    3.000000  30.000000  180.000000   80.000000\n",
      "75%    4.000000  35.000000  190.000000   90.000000\n",
      "max    5.000000  40.000000  200.000000  100.000000\n"
     ]
    }
   ],
   "source": [
    "data = {\n",
    "'ID': [1, 2, 3, 4, 5],\n",
    "'Edad': [20, 25, 30, 35, 40],\n",
    "'Altura': [160, 170, 180, 190, 200],\n",
    "'Peso': [60, 70, 80, 90, 100]\n",
    "}\n",
    "\n",
    "df = pd.DataFrame(data)\n",
    "\n",
    "# summary using describe() function\n",
    "summary = df.describe()\n",
    "print(summary)"
   ]
  }
 ],
 "metadata": {
  "kernelspec": {
   "display_name": "Python 3",
   "language": "python",
   "name": "python3"
  },
  "language_info": {
   "codemirror_mode": {
    "name": "ipython",
    "version": 3
   },
   "file_extension": ".py",
   "mimetype": "text/x-python",
   "name": "python",
   "nbconvert_exporter": "python",
   "pygments_lexer": "ipython3",
   "version": "3.13.1"
  }
 },
 "nbformat": 4,
 "nbformat_minor": 2
}
